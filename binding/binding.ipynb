{
 "cells": [
  {
   "cell_type": "markdown",
   "metadata": {},
   "source": [
    "## Calculate binding scores and correlate with ΔG"
   ]
  },
  {
   "cell_type": "code",
   "execution_count": null,
   "metadata": {},
   "outputs": [],
   "source": [
    "import matplotlib.pyplot as plt\n",
    "import pandas as pd\n",
    "from sklearn.metrics import r2_score\n",
    "import math\n",
    "import statistics\n",
    "\n",
    "from constants import *"
   ]
  },
  {
   "cell_type": "code",
   "execution_count": null,
   "metadata": {},
   "outputs": [],
   "source": [
    "# Define input vars\n",
    "probs_df = pd.read_csv(PROBS_CSV)\n",
    "sabdab_df = pd.read_csv(SABDAB_CSV)\n",
    "pdb_list = probs_df['pdb'].drop_duplicates().tolist()\n",
    "bind_prob_threshold = 50.0\n",
    "bind_scores = {}"
   ]
  },
  {
   "cell_type": "code",
   "execution_count": null,
   "metadata": {},
   "outputs": [],
   "source": [
    "# Reformat the SAbDab dataframe\n",
    "sabdab_df = sabdab_df[sabdab_df['pdb'].isin(pdb_list)]\n",
    "sabdab_df['delta_g'] = pd.to_numeric(sabdab_df['delta_g'])"
   ]
  },
  {
   "cell_type": "code",
   "execution_count": null,
   "metadata": {},
   "outputs": [],
   "source": [
    "# Reformat the binding probabilities dataframe to keep residue-level data\n",
    "probs_df = pd.DataFrame(probs_df.groupby(['pdb','chain_id','res_seq_num','residue'])['paratope_probability'].mean())\n",
    "probs_df = probs_df.reset_index()"
   ]
  },
  {
   "cell_type": "code",
   "execution_count": null,
   "metadata": {},
   "outputs": [],
   "source": [
    "# Calculate binding score from binding probabilities and add to the SAbDab dataframe\n",
    "for pdb_code in pdb_list:\n",
    "    pdb_df = probs_df[probs_df['pdb'] == pdb_code]\n",
    "    pdb_df = pdb_df[pdb_df['paratope_probability'] > bind_prob_threshold]\n",
    "    bind_probs = pdb_df['paratope_probability'].tolist()\n",
    "    try:\n",
    "        binding_score = math.log(statistics.mean(bind_probs) * len(bind_probs))\n",
    "    except:\n",
    "        binding_score = 0\n",
    "    bind_scores[pdb_code] = binding_score\n",
    "\n",
    "sabdab_df['binding_score'] = sabdab_df['pdb'].map(bind_scores)"
   ]
  },
  {
   "cell_type": "code",
   "execution_count": null,
   "metadata": {},
   "outputs": [],
   "source": [
    "# Plot binding probabilities\n",
    "probs_df['paratope_probability'].astype(float).plot()"
   ]
  },
  {
   "cell_type": "code",
   "execution_count": null,
   "metadata": {},
   "outputs": [],
   "source": [
    "# Plot ΔG\n",
    "sabdab_df['delta_g'].plot()"
   ]
  },
  {
   "cell_type": "code",
   "execution_count": null,
   "metadata": {},
   "outputs": [],
   "source": [
    "# Correlate binding scores with ΔG\n",
    "plt.rc('axes', labelsize=20)\n",
    "plt.rcParams.update({'font.size': 15})\n",
    "r2 = r2_score(sabdab_df['delta_g'], sabdab_df['binding_score'])\n",
    "sabdab_df.plot(x='delta_g', y='binding_score', kind='scatter', figsize=(20,10), fontsize=15, title=f\"R-squared = {r2}\")"
   ]
  }
 ],
 "metadata": {
  "kernelspec": {
   "display_name": "Python 3",
   "language": "python",
   "name": "python3"
  },
  "language_info": {
   "codemirror_mode": {
    "name": "ipython",
    "version": 3
   },
   "file_extension": ".py",
   "mimetype": "text/x-python",
   "name": "python",
   "nbconvert_exporter": "python",
   "pygments_lexer": "ipython3",
   "version": "3.7.6"
  }
 },
 "nbformat": 4,
 "nbformat_minor": 4
}
